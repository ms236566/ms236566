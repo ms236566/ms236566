{
  "cells": [
    {
      "cell_type": "markdown",
      "metadata": {
        "id": "88laf5AW8Upr"
      },
      "source": [
        "l# Numpy"
      ]
    },
    {
      "cell_type": "markdown",
      "metadata": {
        "id": "InicJ7kM8Upv"
      },
      "source": [
        "Материалы:\n",
        "* Макрушин С.В. \"Лекция 1: Библиотека Numpy\"\n",
        "* https://numpy.org/doc/stable/user/index.html\n",
        "* https://numpy.org/doc/stable/reference/index.html"
      ]
    },
    {
      "cell_type": "markdown",
      "metadata": {
        "id": "AIKhR5ZT8Upv"
      },
      "source": [
        "## Задачи для совместного разбора"
      ]
    },
    {
      "cell_type": "markdown",
      "metadata": {
        "id": "QMHD2cp18Upw"
      },
      "source": [
        "1. Сгенерировать двухмерный массив `arr` размерности (4, 7), состоящий из случайных действительных чисел, равномерно распределенных в диапазоне от 0 до 20. Нормализовать значения массива с помощью преобразования вида  $𝑎𝑥+𝑏$  так, что после нормализации максимальный элемент масcива будет равен 1.0, минимальный 0.0"
      ]
    },
    {
      "cell_type": "code",
      "execution_count": 26,
      "metadata": {
        "id": "Jr3m2t2H8Upw"
      },
      "outputs": [],
      "source": [
        "import numpy as np"
      ]
    },
    {
      "cell_type": "code",
      "execution_count": 27,
      "metadata": {
        "colab": {
          "base_uri": "https://localhost:8080/"
        },
        "id": "5S8pzQPF8Upx",
        "outputId": "13c45a44-2bd1-406a-ad17-cb2210cbcfcf"
      },
      "outputs": [
        {
          "output_type": "execute_result",
          "data": {
            "text/plain": [
              "array([[ 2,  9,  4,  0,  3, 19, 19],\n",
              "       [11,  7, 19, 10, 18, 13,  1],\n",
              "       [15, 15,  4, 15, 11,  2,  9],\n",
              "       [ 4, 15, 15, 17,  2,  0, 14]])"
            ]
          },
          "metadata": {},
          "execution_count": 27
        }
      ],
      "source": [
        "np.random.randint(0, 20, size = (4, 7))"
      ]
    },
    {
      "cell_type": "markdown",
      "source": [],
      "metadata": {
        "id": "J7a0Rhs986zu"
      }
    },
    {
      "cell_type": "code",
      "source": [
        "data = np.random.uniform(0, 20, size = (4, 7))\n",
        "print(data)\n",
        "(data-np.min(data))/(np.max(data)-np.min(data))"
      ],
      "metadata": {
        "colab": {
          "base_uri": "https://localhost:8080/"
        },
        "id": "K03wgBPM9DPr",
        "outputId": "a0766435-2c27-4edd-ee77-a14c662fc078"
      },
      "execution_count": 28,
      "outputs": [
        {
          "output_type": "stream",
          "name": "stdout",
          "text": [
            "[[9.28215895e+00 1.14234746e+01 3.06970298e+00 2.78924964e+00\n",
            "  5.43706452e+00 7.03146801e-01 3.35953093e+00]\n",
            " [6.85922798e+00 1.63476772e+01 9.77483712e+00 1.03834963e+01\n",
            "  9.97449307e+00 3.15586021e+00 1.93984132e+01]\n",
            " [1.41598454e+01 1.13776228e-02 1.30851369e+01 1.22179749e+01\n",
            "  1.51648185e+01 5.32226974e+00 1.65161911e+01]\n",
            " [1.57625490e+01 1.51317904e+01 1.32611738e+00 1.53042176e+01\n",
            "  2.93712699e+00 9.41692790e+00 1.64794594e+01]]\n"
          ]
        },
        {
          "output_type": "execute_result",
          "data": {
            "text/plain": [
              "array([[0.47819489, 0.5886458 , 0.15775106, 0.14328503, 0.2798616 ,\n",
              "        0.03568205, 0.17270063],\n",
              "       [0.35321802, 0.84264041, 0.50360765, 0.53500282, 0.51390608,\n",
              "        0.16219512, 1.        ],\n",
              "       [0.72979016, 0.        , 0.67435577, 0.62962681, 0.78162754,\n",
              "        0.27394039, 0.8513325 ],\n",
              "       [0.81245899, 0.77992392, 0.06781541, 0.78881786, 0.15091267,\n",
              "        0.48514639, 0.84943785]])"
            ]
          },
          "metadata": {},
          "execution_count": 28
        }
      ]
    },
    {
      "cell_type": "markdown",
      "metadata": {
        "id": "NlmuLBKe8Upy"
      },
      "source": [
        "2. Создать матрицу 8 на 10 из случайных целых (используя модуль `numpy.random`) чисел из диапозона от 0 до 10 и найти в ней строку (ее индекс и вывести саму строку), в которой сумма значений минимальна."
      ]
    },
    {
      "cell_type": "code",
      "execution_count": 29,
      "metadata": {
        "colab": {
          "base_uri": "https://localhost:8080/"
        },
        "id": "Igf2bz5g8Upy",
        "outputId": "9bc1b526-0432-47dc-cca5-53b3f2252f22"
      },
      "outputs": [
        {
          "output_type": "execute_result",
          "data": {
            "text/plain": [
              "array([[5, 6, 2, 0, 9, 4, 5, 3, 7, 2],\n",
              "       [1, 4, 8, 9, 4, 4, 8, 3, 9, 7],\n",
              "       [6, 9, 2, 2, 3, 5, 7, 1, 0, 4],\n",
              "       [4, 8, 5, 7, 3, 5, 6, 9, 3, 6],\n",
              "       [2, 8, 1, 0, 8, 5, 2, 3, 4, 2],\n",
              "       [4, 5, 4, 3, 1, 1, 2, 8, 6, 6],\n",
              "       [8, 8, 5, 2, 6, 4, 9, 1, 4, 1],\n",
              "       [9, 5, 5, 5, 7, 5, 1, 9, 9, 4]])"
            ]
          },
          "metadata": {},
          "execution_count": 29
        }
      ],
      "source": [
        "np.random.randint(0, 10, size = (8, 10))"
      ]
    },
    {
      "cell_type": "code",
      "source": [
        "arr = np.random.randint(0, 10, size = (8, 10))\n",
        "print(arr)\n",
        "print(\"Row Index\",np.argmin(np.sum(arr, axis=1)))\n",
        "arr[np.argmin(np.sum(arr, axis=1))]"
      ],
      "metadata": {
        "colab": {
          "base_uri": "https://localhost:8080/"
        },
        "id": "1B6w-GAYCKqA",
        "outputId": "a0e46379-7762-4dca-f0d6-e587d9f3caef"
      },
      "execution_count": 30,
      "outputs": [
        {
          "output_type": "stream",
          "name": "stdout",
          "text": [
            "[[8 1 8 5 5 4 8 8 2 9]\n",
            " [3 0 5 8 6 9 1 3 0 4]\n",
            " [4 3 6 8 8 6 9 0 5 3]\n",
            " [3 2 0 2 7 2 5 9 7 5]\n",
            " [2 1 8 0 7 8 6 4 6 5]\n",
            " [7 6 6 7 2 2 3 1 0 5]\n",
            " [7 1 8 4 6 7 8 4 0 2]\n",
            " [0 6 5 1 2 1 7 3 2 3]]\n",
            "Row Index 7\n"
          ]
        },
        {
          "output_type": "execute_result",
          "data": {
            "text/plain": [
              "array([0, 6, 5, 1, 2, 1, 7, 3, 2, 3])"
            ]
          },
          "metadata": {},
          "execution_count": 30
        }
      ]
    },
    {
      "cell_type": "markdown",
      "metadata": {
        "id": "pdWTuG6e8Upz"
      },
      "source": [
        "3. Найти евклидово расстояние между двумя одномерными векторами одинаковой размерности."
      ]
    },
    {
      "cell_type": "code",
      "source": [
        "point_1 = np.random.randint(0, 20, size=5)\n",
        "point_2 = np.random.randint(0, 20, size=5)\n",
        "print(point_1)\n",
        "print(point_2)\n",
        "#first way\n",
        "square = np.square(point_1 - point_2)\n",
        "sum_square = np.sum(square)\n",
        "print(np.sqrt(sum_square))\n",
        "#second way\n",
        "distance = np.linalg.norm(point_1-point_2)\n",
        "print(distance)"
      ],
      "metadata": {
        "colab": {
          "base_uri": "https://localhost:8080/"
        },
        "id": "idCnBOCQCSty",
        "outputId": "86927a0b-b4ff-49bc-f1a2-bf7a65033aa5"
      },
      "execution_count": 31,
      "outputs": [
        {
          "output_type": "stream",
          "name": "stdout",
          "text": [
            "[ 1  9 18  7  4]\n",
            "[ 9 18 12 12 18]\n",
            "20.049937655763422\n",
            "20.049937655763422\n"
          ]
        }
      ]
    },
    {
      "cell_type": "code",
      "execution_count": 32,
      "metadata": {
        "id": "N7r8F4p38Upz"
      },
      "outputs": [],
      "source": [
        "import matplotlib.pyplot as pl\n",
        "from mpl_toolkits.mplot3d import Axes3D"
      ]
    },
    {
      "cell_type": "markdown",
      "metadata": {
        "id": "Q4QoWM9K8Upz"
      },
      "source": [
        "4. Решить матричное уравнение `A*X*B=-C` - найти матрицу `X`. Где `A = [[-1, 2, 4], [-3, 1, 2], [-3, 0, 1]]`, `B=[[3, -1], [2, 1]]`, `C=[[7, 21], [11, 8], [8, 4]]`."
      ]
    },
    {
      "cell_type": "code",
      "source": [
        "a = np.array([[-1, 2, 4], [-3, 1, 2], [-3, 0, 1]])\n",
        "b = np.array([[3, -1], [2, 1]])\n",
        "c = np.array([[7, 21], [11, 8], [8, 4]])\n",
        "#решение: x = a^-1*(-c)*b^-1\n",
        "\n",
        "x0 = np.matmul(np.linalg.inv(a),(-c))\n",
        "print(x0)\n",
        "x =  np.matmul(x0,np.linalg.inv(b))\n",
        "print(x)"
      ],
      "metadata": {
        "colab": {
          "base_uri": "https://localhost:8080/"
        },
        "id": "N3FdXTSaDA-g",
        "outputId": "af2555fb-3527-48ee-89f9-2cf81d93c455"
      },
      "execution_count": 39,
      "outputs": [
        {
          "output_type": "stream",
          "name": "stdout",
          "text": [
            "[[ 3. -1.]\n",
            " [-4.  3.]\n",
            " [ 1. -7.]]\n",
            "[[ 1.00000000e+00  5.32907052e-16]\n",
            " [-2.00000000e+00  1.00000000e+00]\n",
            " [ 3.00000000e+00 -4.00000000e+00]]\n"
          ]
        }
      ]
    },
    {
      "cell_type": "markdown",
      "metadata": {
        "id": "YIBAQ5ez8Upz"
      },
      "source": [
        "## Лабораторная работа №1"
      ]
    },
    {
      "cell_type": "markdown",
      "metadata": {
        "id": "acsiP3VP8Up0"
      },
      "source": [
        "Замечание: при решении данных задач не подразумевается использования циклов или генераторов Python, если в задании не сказано обратного. Решение должно опираться на использования функционала библиотеки `numpy`."
      ]
    },
    {
      "cell_type": "markdown",
      "metadata": {
        "id": "CaK5tb4r8Up0"
      },
      "source": [
        "1. Файл `minutes_n_ingredients.csv` содержит информацию об идентификаторе рецепта, времени его выполнения в минутах и количестве необходимых ингредиентов. Считайте данные из этого файла в виде массива `numpy` типа `int32`, используя `np.loadtxt`. Выведите на экран первые 5 строк массива."
      ]
    },
    {
      "cell_type": "markdown",
      "source": [
        "/content/sample_data/minutes_n_ingredients.csv"
      ],
      "metadata": {
        "id": "TNXYPO1s90lZ"
      }
    },
    {
      "cell_type": "code",
      "source": [
        "data = np.loadtxt(\"/content/drive/MyDrive/L/minutes_n_ingredients.csv\", delimiter=',', skiprows=1, dtype=np.int32)\n",
        "# first 5 rows\n",
        "print(data[0:5, :])"
      ],
      "metadata": {
        "colab": {
          "base_uri": "https://localhost:8080/"
        },
        "id": "ArhCq9TuDbFf",
        "outputId": "99beecd5-1910-4809-a116-f1727e72b68d"
      },
      "execution_count": 40,
      "outputs": [
        {
          "output_type": "stream",
          "name": "stdout",
          "text": [
            "[[127244     60     16]\n",
            " [ 23891     25      7]\n",
            " [ 94746     10      6]\n",
            " [ 67660      5      6]\n",
            " [157911     60     14]]\n"
          ]
        }
      ]
    },
    {
      "cell_type": "code",
      "source": [
        "from google.colab import drive\n",
        "drive.mount('/content/drive')"
      ],
      "metadata": {
        "colab": {
          "base_uri": "https://localhost:8080/"
        },
        "id": "D6n_WpIF1qKL",
        "outputId": "f6789476-e389-4001-f05c-cd734e423510"
      },
      "execution_count": 35,
      "outputs": [
        {
          "output_type": "stream",
          "name": "stdout",
          "text": [
            "Drive already mounted at /content/drive; to attempt to forcibly remount, call drive.mount(\"/content/drive\", force_remount=True).\n"
          ]
        }
      ]
    },
    {
      "cell_type": "code",
      "source": [
        "d1 = data.copy()"
      ],
      "metadata": {
        "id": "j5FulXPt-tri"
      },
      "execution_count": 41,
      "outputs": []
    },
    {
      "cell_type": "markdown",
      "metadata": {
        "id": "yKAWaO6E8Up0"
      },
      "source": [
        "2. Вычислите среднее значение, минимум, максимум и медиану по каждому из столбцов, кроме первого."
      ]
    },
    {
      "cell_type": "code",
      "source": [
        "#делаем срез массива, извлекаем все кроме первого массива\n",
        "sliced = data[:,1:]\n",
        "# находим среднее по столбцам среза\n",
        "print(np.mean(sliced,axis=0))\n",
        "# находим минимум по столбцам среза\n",
        "print(np.min(sliced, axis=0))\n",
        "# находим максимум по столбцам среза\n",
        "print(np.max(sliced, axis=0))\n",
        "# находим медиану по столбцам среза\n",
        "print(np.median(sliced, axis=0))"
      ],
      "metadata": {
        "colab": {
          "base_uri": "https://localhost:8080/"
        },
        "id": "j5mLBrNkEajU",
        "outputId": "81beb7df-a6ce-4b06-8c76-6cab079944f2"
      },
      "execution_count": 46,
      "outputs": [
        {
          "output_type": "stream",
          "name": "stdout",
          "text": [
            "[2.16010017e+04 9.05528000e+00]\n",
            "[0 1]\n",
            "[2147483647         39]\n",
            "[40.  9.]\n"
          ]
        }
      ]
    },
    {
      "cell_type": "markdown",
      "metadata": {
        "id": "5lmY06sT8Up0"
      },
      "source": [
        "3. Ограничьте сверху значения продолжительности выполнения рецепта значением квантиля $q_{0.75}$."
      ]
    },
    {
      "cell_type": "code",
      "source": [
        "np.clip(data[:, 1],0,np.quantile(data[:, 1],0.75,method='higher'))"
      ],
      "metadata": {
        "colab": {
          "base_uri": "https://localhost:8080/"
        },
        "id": "wKVi-2Z1EooK",
        "outputId": "5945669f-cc52-4d23-d8aa-624bd4c49a23"
      },
      "execution_count": 47,
      "outputs": [
        {
          "output_type": "execute_result",
          "data": {
            "text/plain": [
              "array([60, 25, 10, ..., 65,  5, 65], dtype=int32)"
            ]
          },
          "metadata": {},
          "execution_count": 47
        }
      ]
    },
    {
      "cell_type": "markdown",
      "metadata": {
        "id": "AI5Vg-ve8Up0"
      },
      "source": [
        "4. Посчитайте, для скольких рецептов указана продолжительность, равная нулю. Замените для таких строк значение в данном столбце на 1."
      ]
    },
    {
      "cell_type": "code",
      "source": [
        "print(np.count_nonzero (d1[:, 1] == 0))"
      ],
      "metadata": {
        "colab": {
          "base_uri": "https://localhost:8080/"
        },
        "id": "84JTJLpKFB6Q",
        "outputId": "f4c18c49-6168-4526-f23c-e3e90bd58c6f"
      },
      "execution_count": 48,
      "outputs": [
        {
          "output_type": "stream",
          "name": "stdout",
          "text": [
            "479\n"
          ]
        }
      ]
    },
    {
      "cell_type": "code",
      "source": [
        "np.place(data, data==0, 1)"
      ],
      "metadata": {
        "id": "5Wos0-qC6iIE"
      },
      "execution_count": 49,
      "outputs": []
    },
    {
      "cell_type": "code",
      "source": [
        "#Проверка\n",
        "print(np.count_nonzero (data[:, 1] == 1)-(np.count_nonzero (d1[:, 1] == 1)))"
      ],
      "metadata": {
        "colab": {
          "base_uri": "https://localhost:8080/"
        },
        "id": "sWGYHD_LNwH2",
        "outputId": "e16625ba-37a9-40dc-ce59-ba5cf6089977"
      },
      "execution_count": 50,
      "outputs": [
        {
          "output_type": "stream",
          "name": "stdout",
          "text": [
            "479\n"
          ]
        }
      ]
    },
    {
      "cell_type": "markdown",
      "metadata": {
        "id": "RrreAKHN8Up0"
      },
      "source": [
        "5. Посчитайте, сколько уникальных рецептов находится в датасете."
      ]
    },
    {
      "cell_type": "code",
      "source": [
        "#уникальные рецепты - это рецепты, у которых не повторяются минуты и количество ингредиентов\n",
        "len(np.unique(sliced, axis=0))"
      ],
      "metadata": {
        "colab": {
          "base_uri": "https://localhost:8080/"
        },
        "id": "0Jc9JbH0FTTh",
        "outputId": "dd977ebb-b751-4d2d-fc2d-78e8b683d900"
      },
      "execution_count": 51,
      "outputs": [
        {
          "output_type": "execute_result",
          "data": {
            "text/plain": [
              "4183"
            ]
          },
          "metadata": {},
          "execution_count": 51
        }
      ]
    },
    {
      "cell_type": "markdown",
      "metadata": {
        "id": "9TOulopI8Up0"
      },
      "source": [
        "6. Сколько и каких различных значений кол-ва ингредиентов присутвует в рецептах из датасета?"
      ]
    },
    {
      "cell_type": "code",
      "source": [
        "print(np.unique(data[:, 2], axis=0))\n",
        "print(np.unique(data[:, 2], axis=0).size)"
      ],
      "metadata": {
        "colab": {
          "base_uri": "https://localhost:8080/"
        },
        "id": "x47KTrEsJqq7",
        "outputId": "321dbf31-6f09-486a-f1c6-5589f1b3b3ed"
      },
      "execution_count": 52,
      "outputs": [
        {
          "output_type": "stream",
          "name": "stdout",
          "text": [
            "[ 1  2  3  4  5  6  7  8  9 10 11 12 13 14 15 16 17 18 19 20 21 22 23 24\n",
            " 25 26 27 28 29 30 31 32 33 34 35 37 39]\n",
            "37\n"
          ]
        }
      ]
    },
    {
      "cell_type": "markdown",
      "metadata": {
        "id": "jnktKdDV8Up0"
      },
      "source": [
        "7. Создайте версию массива, содержащую информацию только о рецептах, состоящих не более чем из 5 ингредиентов."
      ]
    },
    {
      "cell_type": "code",
      "source": [
        "data2 = data[np.where(data[:, 2] <= 5)]\n",
        "print(data2)"
      ],
      "metadata": {
        "colab": {
          "base_uri": "https://localhost:8080/"
        },
        "id": "Ii8tvukDKI5Z",
        "outputId": "64be23d9-8172-4bfd-95a7-2f7f4dbfc2b7"
      },
      "execution_count": 53,
      "outputs": [
        {
          "output_type": "stream",
          "name": "stdout",
          "text": [
            "[[446597     15      5]\n",
            " [204134      5      3]\n",
            " [ 25623      6      4]\n",
            " ...\n",
            " [ 52088     60      5]\n",
            " [128811     15      4]\n",
            " [370915      5      4]]\n"
          ]
        }
      ]
    },
    {
      "cell_type": "markdown",
      "metadata": {
        "id": "GF4W0BkH8Up0"
      },
      "source": [
        "8. Для каждого рецепта посчитайте, сколько в среднем ингредиентов приходится на одну минуту рецепта. Найдите максимальное значение этой величины для всего датасета"
      ]
    },
    {
      "cell_type": "code",
      "source": [
        "A = data[:, 1]\n",
        "B = data[:, 2]\n",
        "C = B/A\n",
        "print(C)\n",
        "data_c = [C]\n",
        "sliced = data_c[:]\n",
        "print(np.max(sliced,axis=1))"
      ],
      "metadata": {
        "colab": {
          "base_uri": "https://localhost:8080/"
        },
        "id": "AOX6I2hXYriQ",
        "outputId": "0d632b32-15aa-44e5-9bdd-ee316d4bc454"
      },
      "execution_count": 54,
      "outputs": [
        {
          "output_type": "stream",
          "name": "stdout",
          "text": [
            "[0.26666667 0.28       0.6        ... 0.23076923 0.8        0.1       ]\n",
            "[24.]\n"
          ]
        }
      ]
    },
    {
      "cell_type": "markdown",
      "metadata": {
        "id": "iiHa7RZO8Up1"
      },
      "source": [
        "9. Вычислите среднее количество ингредиентов для топ-100 рецептов с наибольшей\n",
        "продолжительностью"
      ]
    },
    {
      "cell_type": "code",
      "source": [
        "d1_sorted_desc = d1[d1[:, 1]. argsort ()[::-1]]\n",
        "print(d1_sorted_desc)"
      ],
      "metadata": {
        "colab": {
          "base_uri": "https://localhost:8080/"
        },
        "id": "8OMkIoCbxx-k",
        "outputId": "c48ca975-c053-42ff-fa99-68ee1df073e2"
      },
      "execution_count": 55,
      "outputs": [
        {
          "output_type": "stream",
          "name": "stdout",
          "text": [
            "[[    261647 2147483647          8]\n",
            " [    216215     259260          7]\n",
            " [    425681     259205          2]\n",
            " ...\n",
            " [     50748          0         12]\n",
            " [      5354          0          8]\n",
            " [      4896          0         14]]\n"
          ]
        }
      ]
    },
    {
      "cell_type": "code",
      "source": [
        "x = np.mean(d1_sorted_desc[:100,2], axis=0)\n",
        "#print(np.mean(d1_sorted_desc[2],axis=0))\n",
        "x"
      ],
      "metadata": {
        "colab": {
          "base_uri": "https://localhost:8080/"
        },
        "id": "OkmKcUZDy8T8",
        "outputId": "54ad7b07-0c6b-4581-9097-2b53a9b8ec9e"
      },
      "execution_count": 56,
      "outputs": [
        {
          "output_type": "execute_result",
          "data": {
            "text/plain": [
              "6.61"
            ]
          },
          "metadata": {},
          "execution_count": 56
        }
      ]
    },
    {
      "cell_type": "markdown",
      "metadata": {
        "id": "48i95Vbl8Up1"
      },
      "source": [
        "10. Выберите случайным образом и выведите информацию о 10 различных рецептах"
      ]
    },
    {
      "cell_type": "code",
      "source": [
        "index = np.random.randint(d1.shape[0], size=10)\n",
        "random_rows = d1[index, :]\n",
        "print(random_rows)"
      ],
      "metadata": {
        "colab": {
          "base_uri": "https://localhost:8080/"
        },
        "id": "hmWABJcRrQ4Y",
        "outputId": "1d480709-18f1-4435-e968-0a6a778d52b9"
      },
      "execution_count": 68,
      "outputs": [
        {
          "output_type": "stream",
          "name": "stdout",
          "text": [
            "[[202693     10     13]\n",
            " [381300     20      4]\n",
            " [182729     10      5]\n",
            " [100462    110     12]\n",
            " [425697     85     12]\n",
            " [407657     30     10]\n",
            " [501171      5     10]\n",
            " [377952     85     11]\n",
            " [448787     40     15]\n",
            " [432509     60     15]]\n"
          ]
        }
      ]
    },
    {
      "cell_type": "markdown",
      "metadata": {
        "id": "CThabDjD8Up1"
      },
      "source": [
        "11. Выведите процент рецептов, кол-во ингредиентов в которых меньше среднего."
      ]
    },
    {
      "cell_type": "code",
      "source": [
        "sr1 =  data[:,2:]\n",
        "r = np.mean(sr1,axis=0)\n",
        "print(r) # cреднее значение инградиентов массива\n",
        "x = np.count_nonzero(sr1[:,:2:] <= r[:])\n",
        "print(x) # количество рецептов меньше среднего\n",
        "s = np.count_nonzero(sr1)\n",
        "print(s) # количество всего рецептов по массиву (100%)\n",
        "percent = x*100/s\n",
        "print(percent) # Ответ"
      ],
      "metadata": {
        "colab": {
          "base_uri": "https://localhost:8080/"
        },
        "id": "-qsxnpSG9mpG",
        "outputId": "16260f6d-4031-4bf7-afb2-305d85590673"
      },
      "execution_count": 210,
      "outputs": [
        {
          "output_type": "stream",
          "name": "stdout",
          "text": [
            "[9.05523]\n",
            "58803\n",
            "100000\n",
            "58.803\n"
          ]
        }
      ]
    },
    {
      "cell_type": "markdown",
      "metadata": {
        "id": "Em9g0JFZ8Up1"
      },
      "source": [
        "12. Назовем \"простым\" такой рецепт, длительность выполнения которого не больше 20 минут и кол-во ингредиентов в котором не больше 5. Создайте версию датасета с дополнительным столбцом, значениями которого являются 1, если рецепт простой, и 0 в противном случае."
      ]
    },
    {
      "cell_type": "code",
      "source": [
        "a = np.date[1]\n",
        "a"
      ],
      "metadata": {
        "id": "VMI5pHh3tY-e"
      },
      "execution_count": null,
      "outputs": []
    },
    {
      "cell_type": "markdown",
      "metadata": {
        "id": "BgoNxUeO8Up1"
      },
      "source": [
        "13. Выведите процент \"простых\" рецептов в датасете"
      ]
    },
    {
      "cell_type": "code",
      "source": [],
      "metadata": {
        "id": "6Pm17fmhtQDa"
      },
      "execution_count": null,
      "outputs": []
    },
    {
      "cell_type": "markdown",
      "metadata": {
        "id": "2-uzE4se8Up1"
      },
      "source": [
        "14. Разделим рецепты на группы по следующему правилу. Назовем рецепты короткими, если их продолжительность составляет менее 10 минут; стандартными, если их продолжительность составляет более 10, но менее 20 минут; и длинными, если их продолжительность составляет не менее 20 минут. Создайте трехмерный массив, где нулевая ось отвечает за номер группы (короткий, стандартный или длинный рецепт), первая ось - за сам рецепт и вторая ось - за характеристики рецепта. Выберите максимальное количество рецептов из каждой группы таким образом, чтобы было возможно сформировать трехмерный массив. Выведите форму полученного массива."
      ]
    },
    {
      "cell_type": "markdown",
      "source": [
        "оно мудреное очень))\n",
        "я сначала отдельным столбцом вычислил группу\n",
        "если больше 10, то плюс 1, если больше 20, то еще плюс 1\n",
        "потом через hstack присобачил ее к копии массива\n",
        "через unique нашел значения групп и количество в каждой\n",
        "взял минимальное кол-во в группе\n",
        "потом соорудил нулевой массив нужной формы и дальше его уже заполнял"
      ],
      "metadata": {
        "id": "v_nfLdxbAU_H"
      }
    }
  ],
  "metadata": {
    "kernelspec": {
      "display_name": "Python 3 (ipykernel)",
      "language": "python",
      "name": "python3"
    },
    "language_info": {
      "codemirror_mode": {
        "name": "ipython",
        "version": 3
      },
      "file_extension": ".py",
      "mimetype": "text/x-python",
      "name": "python",
      "nbconvert_exporter": "python",
      "pygments_lexer": "ipython3",
      "version": "3.9.12"
    },
    "colab": {
      "provenance": [],
      "collapsed_sections": [
        "AIKhR5ZT8Upv"
      ]
    }
  },
  "nbformat": 4,
  "nbformat_minor": 0
}